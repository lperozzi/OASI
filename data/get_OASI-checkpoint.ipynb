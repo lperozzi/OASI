{
 "cells": [
  {
   "cell_type": "code",
   "execution_count": 2,
   "metadata": {},
   "outputs": [
    {
     "name": "stdout",
     "output_type": "stream",
     "text": [
      "CPython 3.5.2\n",
      "IPython 5.1.0\n",
      "\n",
      "pandas 0.18.1\n",
      "\n",
      "compiler   : GCC 4.2.1 Compatible Apple LLVM 4.2 (clang-425.0.28)\n",
      "system     : Darwin\n",
      "release    : 16.5.0\n",
      "machine    : x86_64\n",
      "processor  : i386\n",
      "CPU cores  : 4\n",
      "interpreter: 64bit\n"
     ]
    }
   ],
   "source": [
    "%load_ext watermark\n",
    "%watermark -v -m -p pandas"
   ]
  },
  {
   "cell_type": "code",
   "execution_count": null,
   "metadata": {
    "run_control": {
     "marked": true
    }
   },
   "outputs": [],
   "source": [
    "import pandas as pd\n",
    "from functools import reduce\n",
    "####################################################################\n",
    "######################### dati mensili #########################\n",
    "####################################################################\n",
    "\n",
    "\n",
    "parameter = ['pm10','pm2.5','o3','no2']\n",
    "\n",
    "# Airolo, Biasca, Bioggio, Bodio, Brione s. Minusio, Camignolo, Chiasso, Giubiasco, Locarno, Lugano, Magadino, Mendrisio, Pregassona, San Vittore, Vezia\n",
    "location = ['auto_275', '511%2002%2008', '304%2001%2005', '406%2001%2003', '525%2001%2001', '610%2002%2006',\n",
    "           'auto_51', '423%2002%2002', 'Nabel_LUG', 'Nabel_MAG', '614%2001%2003', '596%2001%2001', 'auto_75', '591%2001%2001']\n",
    "city = ['Airolo', 'Bioggio', 'Bodio', 'Bione s. Minusio', 'Camignolo', \n",
    "        'Chiasso', 'Giubiasco', 'Locarno', 'Lugano', 'Magadino', 'Mendrisio',\n",
    "        'Pregassona', 'San Vittore', 'Vezia']\n",
    "\n",
    "resolution = 'm' # risoluzione mensile\n",
    "urls = []\n",
    "dfs = []\n",
    "CSV_URL = 'http://www.oasi.ti.ch/web/rest/measure/csv?domain=air&resolution={}&parameter={}&from=2007-01-01&to=2017-04-28&location={}'\n",
    "\n",
    "\n",
    "for l in location:\n",
    "    dfs1 = []\n",
    "    for p in parameter:\n",
    "        url = CSV_URL.format(resolution, p, l)\n",
    "        df = pd.read_csv(url, comment='#', sep=';', usecols=[0, 1], index_col='data')\n",
    "        dfs1.append(df)\n",
    "    dfs.append(pd.concat(dfs1, axis=1))\n",
    "\n",
    "air_month = pd.concat(dfs, keys=city).rename_axis(('city','data')).reset_index()\n",
    "# .dropna(axis=1, how='all')\n",
    "print (air_month)"
   ]
  },
  {
   "cell_type": "code",
   "execution_count": null,
   "metadata": {},
   "outputs": [],
   "source": [
    "####################################################################\n",
    "######################### dati mensili #########################\n",
    "####################################################################\n",
    "\n",
    "\n",
    "parameter = ['pm10','pm2.5','o3','no2']\n",
    "\n",
    "# Airolo, Biasca, Bioggio, Bodio, Brione s. Minusio, Camignolo, Chiasso, Giubiasco, Locarno, Lugano, Magadino, Mendrisio, Pregassona, San Vittore, Vezia\n",
    "location = ['auto_275', '511%2002%2008', '304%2001%2005', '406%2001%2003', '525%2001%2001', '610%2002%2006',\n",
    "           'auto_51', '423%2002%2002', 'Nabel_LUG', 'Nabel_MAG', '614%2001%2003', '596%2001%2001', 'auto_75', '591%2001%2001']\n",
    "city = ['Airolo', 'Bioggio', 'Bodio', 'Bione s. Minusio', 'Camignolo', \n",
    "        'Chiasso', 'Giubiasco', 'Locarno', 'Lugano', 'Magadino', 'Mendrisio',\n",
    "        'Pregassona', 'San Vittore', 'Vezia']\n",
    "\n",
    "resolution = 'm' # risoluzione mensile\n",
    "urls = []\n",
    "dfs = []\n",
    "CSV_URL = 'http://www.oasi.ti.ch/web/rest/measure/csv?domain=air&resolution={}&parameter={}&from=2007-01-01&to=2017-04-28&location={}'\n",
    "\n",
    "\n",
    "for l in location:\n",
    "    dfs1 = []\n",
    "    for p in parameter:\n",
    "        url = CSV_URL.format(resolution, p, l)\n",
    "        df = pd.read_csv(url, comment='#', sep=';', usecols=[0, 1], index_col='data')\n",
    "        dfs1.append(df)\n",
    "    dfs.append(pd.concat(dfs1, axis=1))\n",
    "\n",
    "air_month = pd.concat(dfs, keys=city).rename_axis(('city','data')).reset_index()\n",
    "# .dropna(axis=1, how='all')\n",
    "print (air_month)"
   ]
  },
  {
   "cell_type": "code",
   "execution_count": null,
   "metadata": {},
   "outputs": [],
   "source": [
    "####################################################################\n",
    "######################### dati annuali #########################\n",
    "####################################################################\n",
    "parameter = ['pm10','pm2.5','o3','no2']\n",
    "\n",
    "# Airolo, Biasca, Bioggio, Bodio, Brione s. Minusio, Camignolo, Chiasso, Giubiasco, Locarno, Lugano, Magadino, Mendrisio, Pregassona, San Vittore, Vezia\n",
    "location = ['auto_275', '511%2002%2008', '304%2001%2005', '406%2001%2003', '525%2001%2001', '610%2002%2006',\n",
    "           'auto_51', '423%2002%2002', 'Nabel_LUG', 'Nabel_MAG', '614%2001%2003', '596%2001%2001', 'auto_75', '591%2001%2001']\n",
    "city = ['Airolo', 'Bioggio', 'Bodio', 'Bione s. Minusio', 'Camignolo', \n",
    "        'Chiasso', 'Giubiasco', 'Locarno', 'Lugano', 'Magadino', 'Mendrisio',\n",
    "        'Pregassona', 'San Vittore', 'Vezia']\n",
    "resolution = 'y' # risoluzione mensile\n",
    "urls = []\n",
    "dfs = []\n",
    "CSV_URL = 'http://www.oasi.ti.ch/web/rest/measure/csv?domain=air&resolution={}&parameter={}&from=2007-01-01&to=2017-04-28&location={}'\n",
    "\n",
    "\n",
    "for l in location:\n",
    "    dfs1 = []\n",
    "    for p in parameter:\n",
    "        url = CSV_URL.format(resolution, p, l)\n",
    "        df = pd.read_csv(url, comment='#', sep=';', usecols=[0, 1], index_col='data')\n",
    "        dfs1.append(df)\n",
    "    dfs.append(pd.concat(dfs1, axis=1))\n",
    "\n",
    "air_year = pd.concat(dfs, keys=city).rename_axis(('city','data')).reset_index()\n",
    "# .dropna(axis=1, how='all')\n",
    "print (air_year)"
   ]
  },
  {
   "cell_type": "code",
   "execution_count": null,
   "metadata": {},
   "outputs": [],
   "source": [
    "url"
   ]
  },
  {
   "cell_type": "code",
   "execution_count": null,
   "metadata": {},
   "outputs": [],
   "source": [
    "####################################################################\n",
    "######################### dati annuali test lugano #########################\n",
    "####################################################################\n",
    "parameter = ['pm10','pm2.5','o3','no2']\n",
    "# parameter = ['pm10']\n",
    "# Airolo, Biasca, Bioggio, Bodio, Brione s. Minusio, Camignolo, Chiasso, Giubiasco, Locarno, Lugano, Magadino, Mendrisio, Pregassona, San Vittore, Vezia\n",
    "location = [ 'Nabel_LUG', 'Nabel_MAG']\n",
    "location = ['auto_275', '511%2002%2008', '304%2001%2005', '406%2001%2003', \n",
    "            '525%2001%2001', '610%2002%2006','auto_51', '423%2002%2002', \n",
    "            'Nabel_LUG', 'Nabel_MAG', '614%2001%2003', '596%2001%2001', \n",
    "            'auto_75', '591%2001%2001']\n",
    "city = ['Airolo', 'Bioggio', 'Bodio', 'Bione s. Minusio', 'Camignolo', \n",
    "        'Chiasso', 'Giubiasco', 'Locarno', 'Lugano', 'Magadino', 'Mendrisio',\n",
    "        'Pregassona', 'San Vittore', 'Vezia']\n",
    "urls = []\n",
    "dfs = []\n",
    "CSV_URL = 'http://www.oasi.ti.ch/web/rest/measure/csv?domain=air&resolution=y&parameter={}&from=2007-01-01&to=2017-04-28&location={}'\n",
    "\n",
    "\n",
    "for l in location:\n",
    "    dfs1 = []\n",
    "    for p in parameter:\n",
    "        url = CSV_URL.format( p, l)\n",
    "        df = pd.read_csv(url, comment='#', sep=';', usecols=[0, 1], index_col='data')\n",
    "        dfs1.append(df)\n",
    "    dfs.append(pd.concat(dfs1, axis=1))\n",
    "\n",
    "air_year = pd.concat(dfs, keys=city).rename_axis(('city','data')).reset_index()\n",
    "# .dropna(axis=1, how='all')\n",
    "print (air_year)\n",
    "    \n",
    "    "
   ]
  },
  {
   "cell_type": "code",
   "execution_count": null,
   "metadata": {},
   "outputs": [],
   "source": [
    "dfs"
   ]
  },
  {
   "cell_type": "code",
   "execution_count": null,
   "metadata": {},
   "outputs": [],
   "source": [
    "result.to_csv('test.csv')"
   ]
  },
  {
   "cell_type": "code",
   "execution_count": null,
   "metadata": {},
   "outputs": [],
   "source": [
    "from datetime import date\n",
    "\n",
    "start_date = \"2007-01-01\"\n",
    "stop_date = \"2017-04-28\"\n",
    "\n",
    "start = datetime.strptime(start_date, \"%Y-%m-%d\")\n",
    "stop = datetime.strptime(stop_date, \"%Y-%m-%d\")\n",
    "\n",
    "from dateutil.relativedelta import relativedelta\n",
    "start = start + relativedelta(days = +10)\n",
    "print(start)"
   ]
  },
  {
   "cell_type": "code",
   "execution_count": null,
   "metadata": {},
   "outputs": [],
   "source": [
    "len(to_date)-1"
   ]
  },
  {
   "cell_type": "code",
   "execution_count": null,
   "metadata": {},
   "outputs": [],
   "source": [
    "from datetime import timedelta, date\n",
    "\n",
    "def daterange(start_date, end_date):\n",
    "    for n in range(int ((end_date - start_date).days)):\n",
    "        yield start_date + timedelta(n)\n",
    "\n",
    "start_date = date(2007, 1, 1)\n",
    "end_date = date(2018, 4, 28)\n",
    "for single_date in daterange(start_date, end_date):\n",
    "    print single_date.strftime(\"%Y-%m-%d\")"
   ]
  },
  {
   "cell_type": "code",
   "execution_count": null,
   "metadata": {},
   "outputs": [],
   "source": [
    "start_date = \"2007-01-01\"\n",
    "stop_date = \"2017-04-28\"\n",
    "index = pd.date_range(start_date, stop_date, freq='10D')"
   ]
  },
  {
   "cell_type": "code",
   "execution_count": null,
   "metadata": {},
   "outputs": [],
   "source": [
    "index[0]"
   ]
  },
  {
   "cell_type": "code",
   "execution_count": null,
   "metadata": {},
   "outputs": [],
   "source": [
    "r = pd.date_range(start_date,stop_date, freq=\"10D\").tolist()\n",
    "# print(r['timestamp'].dt.date)\n",
    "# r.format(formatter=lambda x: x.strftime('%m/%d/%Y'))\n",
    "r"
   ]
  },
  {
   "cell_type": "code",
   "execution_count": null,
   "metadata": {},
   "outputs": [],
   "source": [
    "import pandas as pd\n",
    "datelist = pd.date_range(pd.datetime.today(), periods=100).tolist()\n",
    "datelist[0]"
   ]
  },
  {
   "cell_type": "code",
   "execution_count": null,
   "metadata": {},
   "outputs": [],
   "source": [
    "index.head()"
   ]
  },
  {
   "cell_type": "code",
   "execution_count": null,
   "metadata": {},
   "outputs": [],
   "source": [
    "from datetime import date\n",
    "import pandas as pd\n",
    "\n",
    "start = '2012-01-15'\n",
    "end = '2012-09-20'\n",
    "# 'M' is month-end, instead I need same-day-of-month\n",
    "pd.date_range(start, end, freq='10D')"
   ]
  },
  {
   "cell_type": "code",
   "execution_count": null,
   "metadata": {},
   "outputs": [],
   "source": [
    "start"
   ]
  },
  {
   "cell_type": "code",
   "execution_count": 6,
   "metadata": {},
   "outputs": [
    {
     "name": "stdout",
     "output_type": "stream",
     "text": [
      "2007-01-01 00:00:00 2007-12-31 00:00:00\n",
      "2008-01-01 00:00:00 2008-12-31 00:00:00\n",
      "2009-01-01 00:00:00 2009-12-31 00:00:00\n",
      "2010-01-01 00:00:00 2010-12-31 00:00:00\n",
      "2011-01-01 00:00:00 2011-12-31 00:00:00\n",
      "2012-01-01 00:00:00 2012-12-31 00:00:00\n",
      "2013-01-01 00:00:00 2013-12-31 00:00:00\n",
      "2014-01-01 00:00:00 2014-12-31 00:00:00\n",
      "2015-01-01 00:00:00 2015-12-31 00:00:00\n",
      "2016-01-01 00:00:00 2016-12-31 00:00:00\n"
     ]
    }
   ],
   "source": [
    "import pandas as pd\n",
    "from_start_date = \"2009-01-01\"\n",
    "from_end_date = \"2017-04-13\"\n",
    "\n",
    "to_start_date = \"2007-01-11\"\n",
    "to_end_date = \"2017-04-23\"\n",
    "# to_start_date = \"2007-\"\n",
    "interval = 10\n",
    "\n",
    "index_from = pd.date_range(from_start_date , from_end_date , freq=str(interval)+\"D\")\n",
    "from_date = pd.date_range(from_start_date , from_end_date , freq=\"AS\")\n",
    "to_date = pd.date_range(from_start_date , from_end_date , freq=\"A\")\n",
    "\n",
    "index_to = pd.date_range(to_start_date , to_end_date , freq=str(interval)+\"D\")\n",
    "\n",
    "df_from = pd.DataFrame({\"From\": from_date})\n",
    "from_data_d = pd.to_datetime(df_from['From']).dt.strftime('%Y-%m-%d').tolist()\n",
    "df_to = pd.DataFrame({\"To\": to_date})\n",
    "to_data_d = pd.to_datetime(df_to['To']).dt.strftime('%Y-%m-%d').tolist()\n",
    "for fd, td, in zip(from_date,to_date):\n",
    "    print (fd, td)"
   ]
  },
  {
   "cell_type": "code",
   "execution_count": 7,
   "metadata": {},
   "outputs": [
    {
     "data": {
      "text/plain": [
       "['2007-12-31',\n",
       " '2008-12-31',\n",
       " '2009-12-31',\n",
       " '2010-12-31',\n",
       " '2011-12-31',\n",
       " '2012-12-31',\n",
       " '2013-12-31',\n",
       " '2014-12-31',\n",
       " '2015-12-31',\n",
       " '2016-12-31']"
      ]
     },
     "execution_count": 7,
     "metadata": {},
     "output_type": "execute_result"
    }
   ],
   "source": [
    "to_data_d"
   ]
  },
  {
   "cell_type": "code",
   "execution_count": null,
   "metadata": {},
   "outputs": [],
   "source": [
    "to_d"
   ]
  },
  {
   "cell_type": "code",
   "execution_count": null,
   "metadata": {
    "collapsed": true
   },
   "outputs": [],
   "source": [
    "df = pd.DataFrame({\"EventTime\": index})"
   ]
  },
  {
   "cell_type": "code",
   "execution_count": null,
   "metadata": {},
   "outputs": [],
   "source": [
    "a = pd.to_datetime(df['EventTime']).dt.strftime('%Y-%m-%d').tolist()"
   ]
  },
  {
   "cell_type": "code",
   "execution_count": null,
   "metadata": {},
   "outputs": [],
   "source": [
    "a[-2]"
   ]
  },
  {
   "cell_type": "code",
   "execution_count": null,
   "metadata": {},
   "outputs": [],
   "source": [
    "datetime.date(2007, 1, 1)"
   ]
  },
  {
   "cell_type": "code",
   "execution_count": null,
   "metadata": {
    "collapsed": true
   },
   "outputs": [],
   "source": []
  }
 ],
 "metadata": {
  "anaconda-cloud": {},
  "kernelspec": {
   "display_name": "Python [Root]",
   "language": "python",
   "name": "Python [Root]"
  },
  "language_info": {
   "codemirror_mode": {
    "name": "ipython",
    "version": 3
   },
   "file_extension": ".py",
   "mimetype": "text/x-python",
   "name": "python",
   "nbconvert_exporter": "python",
   "pygments_lexer": "ipython3",
   "version": "3.5.2"
  }
 },
 "nbformat": 4,
 "nbformat_minor": 1
}
